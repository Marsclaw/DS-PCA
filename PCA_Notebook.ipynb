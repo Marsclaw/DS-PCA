{
 "cells": [
  {
   "cell_type": "markdown",
   "metadata": {},
   "source": [
    "# <font color=red>A Detailed Study on PCA</font>"
   ]
  },
  {
   "cell_type": "markdown",
   "metadata": {},
   "source": [
    "### <font color=blue>A Summary of the PCA Approach</font>"
   ]
  },
  {
   "cell_type": "markdown",
   "metadata": {},
   "source": [
    "\n",
    "- Standardize the data.<br>\n",
    "- Find the Covariance Matrix<br>\n",
    "- Obtain the Eigenvectors and Eigenvalues from the covariance matrix.<br>\n",
    "- Sort eigenvalues in descending order and choose the k eigenvectors that correspond to the k largest eigenvalues where k is the number of dimensions of the new feature subspace (k≤d)/.<br>\n",
    "- Construct the projection matrix W from the selected k eigenvectors.<br>\n",
    "- Transform the original dataset X via W to obtain a k-dimensional feature subspace Y.<br>"
   ]
  },
  {
   "cell_type": "code",
   "execution_count": 2,
   "metadata": {},
   "outputs": [],
   "source": [
    "import pandas as pd\n",
    "import matplotlib.pyplot as plt\n",
    "%matplotlib inline\n",
    "import seaborn as sns"
   ]
  },
  {
   "cell_type": "code",
   "execution_count": null,
   "metadata": {},
   "outputs": [],
   "source": []
  },
  {
   "cell_type": "code",
   "execution_count": 3,
   "metadata": {},
   "outputs": [
    {
     "data": {
      "text/html": [
       "<div>\n",
       "<style scoped>\n",
       "    .dataframe tbody tr th:only-of-type {\n",
       "        vertical-align: middle;\n",
       "    }\n",
       "\n",
       "    .dataframe tbody tr th {\n",
       "        vertical-align: top;\n",
       "    }\n",
       "\n",
       "    .dataframe thead th {\n",
       "        text-align: right;\n",
       "    }\n",
       "</style>\n",
       "<table border=\"1\" class=\"dataframe\">\n",
       "  <thead>\n",
       "    <tr style=\"text-align: right;\">\n",
       "      <th></th>\n",
       "      <th>sepal_length</th>\n",
       "      <th>sepal_width</th>\n",
       "      <th>petal_length</th>\n",
       "      <th>petal_width</th>\n",
       "      <th>species</th>\n",
       "    </tr>\n",
       "  </thead>\n",
       "  <tbody>\n",
       "    <tr>\n",
       "      <th>0</th>\n",
       "      <td>5.1</td>\n",
       "      <td>3.5</td>\n",
       "      <td>1.4</td>\n",
       "      <td>0.2</td>\n",
       "      <td>setosa</td>\n",
       "    </tr>\n",
       "    <tr>\n",
       "      <th>1</th>\n",
       "      <td>4.9</td>\n",
       "      <td>3.0</td>\n",
       "      <td>1.4</td>\n",
       "      <td>0.2</td>\n",
       "      <td>setosa</td>\n",
       "    </tr>\n",
       "    <tr>\n",
       "      <th>2</th>\n",
       "      <td>4.7</td>\n",
       "      <td>3.2</td>\n",
       "      <td>1.3</td>\n",
       "      <td>0.2</td>\n",
       "      <td>setosa</td>\n",
       "    </tr>\n",
       "    <tr>\n",
       "      <th>3</th>\n",
       "      <td>4.6</td>\n",
       "      <td>3.1</td>\n",
       "      <td>1.5</td>\n",
       "      <td>0.2</td>\n",
       "      <td>setosa</td>\n",
       "    </tr>\n",
       "    <tr>\n",
       "      <th>4</th>\n",
       "      <td>5.0</td>\n",
       "      <td>3.6</td>\n",
       "      <td>1.4</td>\n",
       "      <td>0.2</td>\n",
       "      <td>setosa</td>\n",
       "    </tr>\n",
       "  </tbody>\n",
       "</table>\n",
       "</div>"
      ],
      "text/plain": [
       "   sepal_length  sepal_width  petal_length  petal_width species\n",
       "0           5.1          3.5           1.4          0.2  setosa\n",
       "1           4.9          3.0           1.4          0.2  setosa\n",
       "2           4.7          3.2           1.3          0.2  setosa\n",
       "3           4.6          3.1           1.5          0.2  setosa\n",
       "4           5.0          3.6           1.4          0.2  setosa"
      ]
     },
     "execution_count": 3,
     "metadata": {},
     "output_type": "execute_result"
    }
   ],
   "source": [
    "df = sns.load_dataset('iris')\n",
    "df.head()"
   ]
  },
  {
   "cell_type": "code",
   "execution_count": 3,
   "metadata": {},
   "outputs": [
    {
     "data": {
      "text/plain": [
       "2.0    50\n",
       "1.0    50\n",
       "0.0    50\n",
       "Name: target, dtype: int64"
      ]
     },
     "execution_count": 3,
     "metadata": {},
     "output_type": "execute_result"
    }
   ],
   "source": [
    "df[\"target\"].value_counts()"
   ]
  },
  {
   "cell_type": "code",
   "execution_count": 8,
   "metadata": {},
   "outputs": [
    {
     "data": {
      "text/plain": [
       "<matplotlib.axes._subplots.AxesSubplot at 0x1e3091b6208>"
      ]
     },
     "execution_count": 8,
     "metadata": {},
     "output_type": "execute_result"
    },
    {
     "data": {
      "image/png": "[encoded data removed]",
      "text/plain": [
       "<Figure size 720x504 with 4 Axes>"
      ]
     },
     "metadata": {
      "needs_background": "light"
     },
     "output_type": "display_data"
    }
   ],
   "source": [
    "fig, axes = plt.subplots(nrows=2, ncols=2, figsize=(10,7))\n",
    "fig.tight_layout()\n",
    "plt.subplot(2,2,1)\n",
    "sns.pointplot(data=df, x='Class_Name', y='petal width (cm)', dodge=True, markers=['o', 's'],   capsize=.1, errwidth=1, palette='colorblind')\n",
    "plt.subplot(2,2,2)\n",
    "sns.pointplot(data=df, x='Class_Name', y='petal length (cm)', dodge=True, markers=['o', 's'],   capsize=.1, errwidth=1, palette='colorblind')\n",
    "plt.subplot(2,2,3)\n",
    "sns.pointplot(data=df, x='Class_Name', y='sepal width (cm)', dodge=True, markers=['o', 's'],   capsize=.1, errwidth=1, palette='colorblind')\n",
    "plt.subplot(2,2,4)\n",
    "sns.pointplot(data=df, x='Class_Name', y='sepal length (cm)', dodge=True, markers=['o', 's'],   capsize=.1, errwidth=1, palette='colorblind')\n",
    "\n",
    "\n",
    "\n"
   ]
  },
  {
   "cell_type": "code",
   "execution_count": null,
   "metadata": {},
   "outputs": [],
   "source": []
  },
  {
   "cell_type": "code",
   "execution_count": 9,
   "metadata": {},
   "outputs": [
    {
     "data": {
      "text/html": [
       "<div>\n",
       "<style scoped>\n",
       "    .dataframe tbody tr th:only-of-type {\n",
       "        vertical-align: middle;\n",
       "    }\n",
       "\n",
       "    .dataframe tbody tr th {\n",
       "        vertical-align: top;\n",
       "    }\n",
       "\n",
       "    .dataframe thead th {\n",
       "        text-align: right;\n",
       "    }\n",
       "</style>\n",
       "<table border=\"1\" class=\"dataframe\">\n",
       "  <thead>\n",
       "    <tr style=\"text-align: right;\">\n",
       "      <th></th>\n",
       "      <th>mean</th>\n",
       "      <th>std</th>\n",
       "    </tr>\n",
       "    <tr>\n",
       "      <th>Class_Name</th>\n",
       "      <th></th>\n",
       "      <th></th>\n",
       "    </tr>\n",
       "  </thead>\n",
       "  <tbody>\n",
       "    <tr>\n",
       "      <th>Iris-Setosa</th>\n",
       "      <td>1.464</td>\n",
       "      <td>0.173511</td>\n",
       "    </tr>\n",
       "    <tr>\n",
       "      <th>Iris-Versicolor</th>\n",
       "      <td>4.260</td>\n",
       "      <td>0.469911</td>\n",
       "    </tr>\n",
       "    <tr>\n",
       "      <th>Iris-Virginica</th>\n",
       "      <td>5.552</td>\n",
       "      <td>0.551895</td>\n",
       "    </tr>\n",
       "  </tbody>\n",
       "</table>\n",
       "</div>"
      ],
      "text/plain": [
       "                  mean       std\n",
       "Class_Name                      \n",
       "Iris-Setosa      1.464  0.173511\n",
       "Iris-Versicolor  4.260  0.469911\n",
       "Iris-Virginica   5.552  0.551895"
      ]
     },
     "execution_count": 9,
     "metadata": {},
     "output_type": "execute_result"
    }
   ],
   "source": [
    "df.groupby(['Class_Name'])['petal length (cm)'].agg(['mean', 'std'])"
   ]
  },
  {
   "cell_type": "code",
   "execution_count": null,
   "metadata": {},
   "outputs": [],
   "source": []
  },
  {
   "cell_type": "code",
   "execution_count": 10,
   "metadata": {},
   "outputs": [],
   "source": [
    "df.rename(columns = {'petal length (cm)':'petal_length'}, inplace = True)"
   ]
  },
  {
   "cell_type": "code",
   "execution_count": 11,
   "metadata": {},
   "outputs": [
    {
     "data": {
      "text/plain": [
       "<matplotlib.axes._subplots.AxesSubplot at 0x1e309291c48>"
      ]
     },
     "execution_count": 11,
     "metadata": {},
     "output_type": "execute_result"
    },
    {
     "data": {
      "image/png": "[encoded data removed]",
      "text/plain": [
       "<Figure size 432x288 with 1 Axes>"
      ]
     },
     "metadata": {
      "needs_background": "light"
     },
     "output_type": "display_data"
    }
   ],
   "source": [
    "sns.distplot(df[\"petal_length\"])\n"
   ]
  },
  {
   "cell_type": "code",
   "execution_count": 12,
   "metadata": {},
   "outputs": [
    {
     "name": "stdout",
     "output_type": "stream",
     "text": [
      "               df      sum_sq     mean_sq            F        PR(>F)\n",
      "Class_Name    2.0  436.643733  218.321867  1179.034328  3.051976e-91\n",
      "Residual    147.0   27.220000    0.185170          NaN           NaN\n"
     ]
    }
   ],
   "source": [
    "import statsmodels.api as sm\n",
    "from statsmodels.formula.api import ols\n",
    "lm=ols('petal_length ~ Class_Name',data=df).fit()\n",
    "table=sm.stats.anova_lm(lm)\n",
    "print(table)"
   ]
  },
  {
   "cell_type": "code",
   "execution_count": 13,
   "metadata": {},
   "outputs": [
    {
     "data": {
      "text/plain": [
       "'0.0000000'"
      ]
     },
     "execution_count": 13,
     "metadata": {},
     "output_type": "execute_result"
    }
   ],
   "source": [
    "format(float('3.051976e-91'), '.7f')"
   ]
  },
  {
   "cell_type": "code",
   "execution_count": 14,
   "metadata": {},
   "outputs": [
    {
     "name": "stdout",
     "output_type": "stream",
     "text": [
      "Overall model F( 2, 147) =  1179.034, p =  0.0000\n"
     ]
    }
   ],
   "source": [
    "# Seeing if the overall model is significant\n",
    "print(f\"Overall model F({lm.df_model: .0f},{lm.df_resid: .0f}) = {lm.fvalue: .3f}, p = {lm.f_pvalue: .4f}\")\n"
   ]
  },
  {
   "cell_type": "code",
   "execution_count": 15,
   "metadata": {},
   "outputs": [
    {
     "data": {
      "text/html": [
       "<table class=\"simpletable\">\n",
       "<caption>OLS Regression Results</caption>\n",
       "<tr>\n",
       "  <th>Dep. Variable:</th>      <td>petal_length</td>   <th>  R-squared:         </th> <td>   0.941</td>\n",
       "</tr>\n",
       "<tr>\n",
       "  <th>Model:</th>                   <td>OLS</td>       <th>  Adj. R-squared:    </th> <td>   0.941</td>\n",
       "</tr>\n",
       "<tr>\n",
       "  <th>Method:</th>             <td>Least Squares</td>  <th>  F-statistic:       </th> <td>   1179.</td>\n",
       "</tr>\n",
       "<tr>\n",
       "  <th>Date:</th>             <td>Thu, 03 Sep 2020</td> <th>  Prob (F-statistic):</th> <td>3.05e-91</td>\n",
       "</tr>\n",
       "<tr>\n",
       "  <th>Time:</th>                 <td>07:59:07</td>     <th>  Log-Likelihood:    </th> <td> -84.840</td>\n",
       "</tr>\n",
       "<tr>\n",
       "  <th>No. Observations:</th>      <td>   150</td>      <th>  AIC:               </th> <td>   175.7</td>\n",
       "</tr>\n",
       "<tr>\n",
       "  <th>Df Residuals:</th>          <td>   147</td>      <th>  BIC:               </th> <td>   184.7</td>\n",
       "</tr>\n",
       "<tr>\n",
       "  <th>Df Model:</th>              <td>     2</td>      <th>                     </th>     <td> </td>   \n",
       "</tr>\n",
       "<tr>\n",
       "  <th>Covariance Type:</th>      <td>nonrobust</td>    <th>                     </th>     <td> </td>   \n",
       "</tr>\n",
       "</table>\n",
       "<table class=\"simpletable\">\n",
       "<tr>\n",
       "                <td></td>                   <th>coef</th>     <th>std err</th>      <th>t</th>      <th>P>|t|</th>  <th>[0.025</th>    <th>0.975]</th>  \n",
       "</tr>\n",
       "<tr>\n",
       "  <th>Intercept</th>                     <td>    1.4640</td> <td>    0.061</td> <td>   24.057</td> <td> 0.000</td> <td>    1.344</td> <td>    1.584</td>\n",
       "</tr>\n",
       "<tr>\n",
       "  <th>Class_Name[T.Iris-Versicolor]</th> <td>    2.7960</td> <td>    0.086</td> <td>   32.488</td> <td> 0.000</td> <td>    2.626</td> <td>    2.966</td>\n",
       "</tr>\n",
       "<tr>\n",
       "  <th>Class_Name[T.Iris-Virginica]</th>  <td>    4.0880</td> <td>    0.086</td> <td>   47.500</td> <td> 0.000</td> <td>    3.918</td> <td>    4.258</td>\n",
       "</tr>\n",
       "</table>\n",
       "<table class=\"simpletable\">\n",
       "<tr>\n",
       "  <th>Omnibus:</th>       <td> 4.393</td> <th>  Durbin-Watson:     </th> <td>   2.000</td>\n",
       "</tr>\n",
       "<tr>\n",
       "  <th>Prob(Omnibus):</th> <td> 0.111</td> <th>  Jarque-Bera (JB):  </th> <td>   5.370</td>\n",
       "</tr>\n",
       "<tr>\n",
       "  <th>Skew:</th>          <td> 0.121</td> <th>  Prob(JB):          </th> <td>  0.0682</td>\n",
       "</tr>\n",
       "<tr>\n",
       "  <th>Kurtosis:</th>      <td> 3.895</td> <th>  Cond. No.          </th> <td>    3.73</td>\n",
       "</tr>\n",
       "</table><br/><br/>Warnings:<br/>[1] Standard Errors assume that the covariance matrix of the errors is correctly specified."
      ],
      "text/plain": [
       "<class 'statsmodels.iolib.summary.Summary'>\n",
       "\"\"\"\n",
       "                            OLS Regression Results                            \n",
       "==============================================================================\n",
       "Dep. Variable:           petal_length   R-squared:                       0.941\n",
       "Model:                            OLS   Adj. R-squared:                  0.941\n",
       "Method:                 Least Squares   F-statistic:                     1179.\n",
       "Date:                Thu, 03 Sep 2020   Prob (F-statistic):           3.05e-91\n",
       "Time:                        07:59:07   Log-Likelihood:                -84.840\n",
       "No. Observations:                 150   AIC:                             175.7\n",
       "Df Residuals:                     147   BIC:                             184.7\n",
       "Df Model:                           2                                         \n",
       "Covariance Type:            nonrobust                                         \n",
       "=================================================================================================\n",
       "                                    coef    std err          t      P>|t|      [0.025      0.975]\n",
       "-------------------------------------------------------------------------------------------------\n",
       "Intercept                         1.4640      0.061     24.057      0.000       1.344       1.584\n",
       "Class_Name[T.Iris-Versicolor]     2.7960      0.086     32.488      0.000       2.626       2.966\n",
       "Class_Name[T.Iris-Virginica]      4.0880      0.086     47.500      0.000       3.918       4.258\n",
       "==============================================================================\n",
       "Omnibus:                        4.393   Durbin-Watson:                   2.000\n",
       "Prob(Omnibus):                  0.111   Jarque-Bera (JB):                5.370\n",
       "Skew:                           0.121   Prob(JB):                       0.0682\n",
       "Kurtosis:                       3.895   Cond. No.                         3.73\n",
       "==============================================================================\n",
       "\n",
       "Warnings:\n",
       "[1] Standard Errors assume that the covariance matrix of the errors is correctly specified.\n",
       "\"\"\""
      ]
     },
     "execution_count": 15,
     "metadata": {},
     "output_type": "execute_result"
    }
   ],
   "source": [
    "lm.summary()"
   ]
  },
  {
   "cell_type": "code",
   "execution_count": 16,
   "metadata": {},
   "outputs": [
    {
     "name": "stdout",
     "output_type": "stream",
     "text": [
      "0 AxesSubplot(0.0469444,0.544444;0.434444x0.42619)\n",
      "1 AxesSubplot(0.539444,0.544444;0.434444x0.42619)\n",
      "2 AxesSubplot(0.0469444,0.0551587;0.434444x0.42619)\n",
      "3 AxesSubplot(0.539444,0.0551587;0.434444x0.42619)\n"
     ]
    }
   ],
   "source": [
    "\n",
    "for i, ax in enumerate(axes.flat):\n",
    "    print(i,ax)"
   ]
  },
  {
   "cell_type": "code",
   "execution_count": 17,
   "metadata": {},
   "outputs": [
    {
     "ename": "NameError",
     "evalue": "name 'plots' is not defined",
     "output_type": "error",
     "traceback": [
      "\u001b[1;31m---------------------------------------------------------------------------\u001b[0m",
      "\u001b[1;31mNameError\u001b[0m                                 Traceback (most recent call last)",
      "\u001b[1;32m<ipython-input-17-482f263d623b>\u001b[0m in \u001b[0;36m<module>\u001b[1;34m\u001b[0m\n\u001b[1;32m----> 1\u001b[1;33m \u001b[0mdf\u001b[0m\u001b[1;33m.\u001b[0m\u001b[0mcolumns\u001b[0m\u001b[1;33m[\u001b[0m\u001b[0mplots\u001b[0m\u001b[1;33m[\u001b[0m\u001b[1;36m0\u001b[0m\u001b[1;33m]\u001b[0m\u001b[1;33m[\u001b[0m\u001b[1;36m0\u001b[0m\u001b[1;33m]\u001b[0m\u001b[1;33m]\u001b[0m\u001b[1;33m\u001b[0m\u001b[1;33m\u001b[0m\u001b[0m\n\u001b[0m",
      "\u001b[1;31mNameError\u001b[0m: name 'plots' is not defined"
     ]
    }
   ],
   "source": [
    "df.columns[plots[0][0]]"
   ]
  },
  {
   "cell_type": "code",
   "execution_count": 18,
   "metadata": {},
   "outputs": [
    {
     "data": {
      "image/png": "[encoded data removed]",
      "text/plain": [
       "<Figure size 720x504 with 4 Axes>"
      ]
     },
     "metadata": {
      "needs_background": "light"
     },
     "output_type": "display_data"
    }
   ],
   "source": [
    "fig, axes = plt.subplots(nrows=2, ncols=2, figsize=(10,7))\n",
    "fig.tight_layout()\n",
    "\n",
    "plots = [(0,1),(2,3),(0,2),(1,3)]\n",
    "colors = ['b', 'r', 'g']\n",
    "labels = ['Iris setosa','Iris virginica','Iris versicolor']\n",
    "\n",
    "for i, ax in enumerate(axes.flat):\n",
    "    for j in range(3):\n",
    "        x = df.columns[plots[i][0]]\n",
    "        y = df.columns[plots[i][1]]\n",
    "        ax.scatter(df[df['target']==j][x], df[df['target']==j][y], color=colors[j])\n",
    "        ax.set(xlabel=x, ylabel=y)\n",
    "\n",
    "fig.legend(labels=labels, loc=3, bbox_to_anchor=(1.0,0.85))\n",
    "plt.show()"
   ]
  },
  {
   "cell_type": "markdown",
   "metadata": {},
   "source": [
    "# Standardizing"
   ]
  },
  {
   "cell_type": "code",
   "execution_count": 19,
   "metadata": {},
   "outputs": [
    {
     "data": {
      "text/html": [
       "<div>\n",
       "<style scoped>\n",
       "    .dataframe tbody tr th:only-of-type {\n",
       "        vertical-align: middle;\n",
       "    }\n",
       "\n",
       "    .dataframe tbody tr th {\n",
       "        vertical-align: top;\n",
       "    }\n",
       "\n",
       "    .dataframe thead th {\n",
       "        text-align: right;\n",
       "    }\n",
       "</style>\n",
       "<table border=\"1\" class=\"dataframe\">\n",
       "  <thead>\n",
       "    <tr style=\"text-align: right;\">\n",
       "      <th></th>\n",
       "      <th>sepal length (cm)</th>\n",
       "      <th>sepal width (cm)</th>\n",
       "      <th>petal_length</th>\n",
       "      <th>petal width (cm)</th>\n",
       "      <th>target</th>\n",
       "      <th>Class_Name</th>\n",
       "    </tr>\n",
       "  </thead>\n",
       "  <tbody>\n",
       "    <tr>\n",
       "      <th>0</th>\n",
       "      <td>5.1</td>\n",
       "      <td>3.5</td>\n",
       "      <td>1.4</td>\n",
       "      <td>0.2</td>\n",
       "      <td>0.0</td>\n",
       "      <td>Iris-Setosa</td>\n",
       "    </tr>\n",
       "  </tbody>\n",
       "</table>\n",
       "</div>"
      ],
      "text/plain": [
       "   sepal length (cm)  sepal width (cm)  petal_length  petal width (cm)  \\\n",
       "0                5.1               3.5           1.4               0.2   \n",
       "\n",
       "   target   Class_Name  \n",
       "0     0.0  Iris-Setosa  "
      ]
     },
     "execution_count": 19,
     "metadata": {},
     "output_type": "execute_result"
    }
   ],
   "source": [
    "df.head(1)"
   ]
  },
  {
   "cell_type": "code",
   "execution_count": 4,
   "metadata": {},
   "outputs": [],
   "source": [
    "X = df.iloc[:,0:4].values\n",
    "y = df.iloc[:,4].values"
   ]
  },
  {
   "cell_type": "code",
   "execution_count": 5,
   "metadata": {},
   "outputs": [],
   "source": [
    "from sklearn.preprocessing import StandardScaler\n",
    "X_std = StandardScaler().fit_transform(X)"
   ]
  },
  {
   "cell_type": "markdown",
   "metadata": {},
   "source": [
    "# Covariance Matrix"
   ]
  },
  {
   "cell_type": "code",
   "execution_count": 26,
   "metadata": {},
   "outputs": [],
   "source": [
    "# import numpy as np\n",
    "# mean_vec = np.mean(X_std, axis=0)\n",
    "# cov_mat = (X_std - mean_vec).T.dot((X_std - mean_vec)) / (X_std.shape[0]-1)\n",
    "# print('Covariance matrix \\n%s' %cov_mat)"
   ]
  },
  {
   "cell_type": "code",
   "execution_count": 7,
   "metadata": {},
   "outputs": [
    {
     "data": {
      "text/plain": [
       "array([[ 1.00671141, -0.11835884,  0.87760447,  0.82343066],\n",
       "       [-0.11835884,  1.00671141, -0.43131554, -0.36858315],\n",
       "       [ 0.87760447, -0.43131554,  1.00671141,  0.96932762],\n",
       "       [ 0.82343066, -0.36858315,  0.96932762,  1.00671141]])"
      ]
     },
     "execution_count": 7,
     "metadata": {},
     "output_type": "execute_result"
    }
   ],
   "source": [
    "import numpy as np\n",
    "cov_mat = np.cov(X_std.T)\n",
    "cov_mat"
   ]
  },
  {
   "cell_type": "code",
   "execution_count": 19,
   "metadata": {},
   "outputs": [
    {
     "name": "stdout",
     "output_type": "stream",
     "text": [
      "NumPy covariance matrix: \n",
      "[[ 1.00671141 -0.11835884  0.87760447  0.82343066]\n",
      " [-0.11835884  1.00671141 -0.43131554 -0.36858315]\n",
      " [ 0.87760447 -0.43131554  1.00671141  0.96932762]\n",
      " [ 0.82343066 -0.36858315  0.96932762  1.00671141]]\n"
     ]
    }
   ],
   "source": [
    "print('NumPy covariance matrix: \\n%s' %np.cov(X_std.T))"
   ]
  },
  {
   "cell_type": "markdown",
   "metadata": {},
   "source": [
    "# Eigendecomposition - Computing Eigenvectors and Eigenvalues"
   ]
  },
  {
   "cell_type": "markdown",
   "metadata": {},
   "source": [
    "- The eigenvectors and eigenvalues of a covariance (or correlation) matrix represent the \"core\" of a PCA: The eigenvectors (principal components) determine the directions of the new feature space, and the eigenvalues determine their magnitude. In other words, the eigenvalues explain the variance of the data along the new feature axes."
   ]
  },
  {
   "cell_type": "code",
   "execution_count": 8,
   "metadata": {},
   "outputs": [
    {
     "name": "stdout",
     "output_type": "stream",
     "text": [
      "Eigenvectors \n",
      "[[ 0.52106591 -0.37741762 -0.71956635  0.26128628]\n",
      " [-0.26934744 -0.92329566  0.24438178 -0.12350962]\n",
      " [ 0.5804131  -0.02449161  0.14212637 -0.80144925]\n",
      " [ 0.56485654 -0.06694199  0.63427274  0.52359713]]\n",
      "\n",
      "Eigenvalues \n",
      "[2.93808505 0.9201649  0.14774182 0.02085386]\n"
     ]
    }
   ],
   "source": [
    "eig_vals, eig_vecs = np.linalg.eig(cov_mat)\n",
    "\n",
    "print('Eigenvectors \\n%s' %eig_vecs)\n",
    "print('\\nEigenvalues \\n%s' %eig_vals)"
   ]
  },
  {
   "cell_type": "code",
   "execution_count": null,
   "metadata": {},
   "outputs": [],
   "source": [
    "([2.93808505,[ 0.52106591 -0.37741762 -0.71956635  0.26128628]],\n",
    ")"
   ]
  },
  {
   "cell_type": "code",
   "execution_count": 21,
   "metadata": {},
   "outputs": [
    {
     "ename": "SyntaxError",
     "evalue": "invalid syntax (<ipython-input-21-731a333bbed5>, line 1)",
     "output_type": "error",
     "traceback": [
      "\u001b[1;36m  File \u001b[1;32m\"<ipython-input-21-731a333bbed5>\"\u001b[1;36m, line \u001b[1;32m1\u001b[0m\n\u001b[1;33m    eigen_vector1=[ 0.52106591 -0.37741762 -0.71956635  0.26128628]\u001b[0m\n\u001b[1;37m                                                                 ^\u001b[0m\n\u001b[1;31mSyntaxError\u001b[0m\u001b[1;31m:\u001b[0m invalid syntax\n"
     ]
    }
   ],
   "source": [
    "eigen_vector1=[ 0.52106591 -0.37741762 -0.71956635  0.26128628]"
   ]
  },
  {
   "cell_type": "code",
   "execution_count": 9,
   "metadata": {},
   "outputs": [
    {
     "data": {
      "text/plain": [
       "3.98"
      ]
     },
     "execution_count": 9,
     "metadata": {},
     "output_type": "execute_result"
    }
   ],
   "source": [
    "2.9+0.92+0.14+0.02"
   ]
  },
  {
   "cell_type": "code",
   "execution_count": 10,
   "metadata": {},
   "outputs": [
    {
     "data": {
      "text/plain": [
       "0.728643216080402"
      ]
     },
     "execution_count": 10,
     "metadata": {},
     "output_type": "execute_result"
    }
   ],
   "source": [
    "2.9/3.98"
   ]
  },
  {
   "cell_type": "code",
   "execution_count": 11,
   "metadata": {},
   "outputs": [
    {
     "data": {
      "text/plain": [
       "0.23115577889447236"
      ]
     },
     "execution_count": 11,
     "metadata": {},
     "output_type": "execute_result"
    }
   ],
   "source": [
    "0.92/3.98"
   ]
  },
  {
   "cell_type": "code",
   "execution_count": 12,
   "metadata": {},
   "outputs": [
    {
     "data": {
      "text/plain": [
       "0.03517587939698493"
      ]
     },
     "execution_count": 12,
     "metadata": {},
     "output_type": "execute_result"
    }
   ],
   "source": [
    "0.14/3.98"
   ]
  },
  {
   "cell_type": "code",
   "execution_count": 14,
   "metadata": {},
   "outputs": [
    {
     "data": {
      "text/plain": [
       "0.5025125628140703"
      ]
     },
     "execution_count": 14,
     "metadata": {},
     "output_type": "execute_result"
    }
   ],
   "source": [
    "(0.02/3.98)*100"
   ]
  },
  {
   "cell_type": "code",
   "execution_count": 15,
   "metadata": {},
   "outputs": [
    {
     "data": {
      "text/plain": [
       "95.97989949748744"
      ]
     },
     "execution_count": 15,
     "metadata": {},
     "output_type": "execute_result"
    }
   ],
   "source": [
    "(0.92+2.9)/3.98 * 100"
   ]
  },
  {
   "cell_type": "markdown",
   "metadata": {},
   "source": [
    "# Selecting Principal Components"
   ]
  },
  {
   "cell_type": "markdown",
   "metadata": {},
   "source": [
    "- The typical goal of a PCA is to reduce the dimensionality of the original feature space by projecting it onto a smaller subspace, where the eigenvectors will form the axes. However, the eigenvectors only define the directions of the new axis, since they have all the same unit length 1, which can confirmed by the following two lines of code:\n",
    "\n",
    "\n",
    "\n"
   ]
  },
  {
   "cell_type": "code",
   "execution_count": 23,
   "metadata": {},
   "outputs": [
    {
     "name": "stdout",
     "output_type": "stream",
     "text": [
      "Everything ok!\n"
     ]
    }
   ],
   "source": [
    "for ev in eig_vecs:\n",
    "    np.testing.assert_array_almost_equal(1.0, np.linalg.norm(ev))\n",
    "print('Everything ok!')"
   ]
  },
  {
   "cell_type": "markdown",
   "metadata": {},
   "source": [
    "- In order to decide which eigenvector(s) can be dropped without losing too much information for the construction of lower-dimensional subspace, we need to inspect the corresponding eigenvalues: The eigenvectors with the lowest eigenvalues bear the least information about the distribution of the data; those are the ones can be dropped.\n",
    "- In order to do so, the common approach is to rank the eigenvalues from highest to lowest in order choose the top k eigenvectors."
   ]
  },
  {
   "cell_type": "code",
   "execution_count": 22,
   "metadata": {},
   "outputs": [
    {
     "name": "stdout",
     "output_type": "stream",
     "text": [
      "Eigenvalues in descending order:\n",
      "(2.938085050199996, array([ 0.52106591, -0.26934744,  0.5804131 ,  0.56485654]))\n",
      "(0.9201649041624876, array([-0.37741762, -0.92329566, -0.02449161, -0.06694199]))\n",
      "(0.1477418210449481, array([-0.71956635,  0.24438178,  0.14212637,  0.63427274]))\n",
      "(0.020853862176462387, array([ 0.26128628, -0.12350962, -0.80144925,  0.52359713]))\n"
     ]
    }
   ],
   "source": [
    "# Make a list of (eigenvalue, eigenvector) tuples\n",
    "eig_pairs = [(np.abs(eig_vals[i]), eig_vecs[:,i]) for i in range(len(eig_vals))]\n",
    "\n",
    "# Sort the (eigenvalue, eigenvector) tuples from high to low\n",
    "eig_pairs.sort()\n",
    "eig_pairs.reverse()\n",
    "\n",
    "# Visually confirm that the list is correctly sorted by decreasing eigenvalues\n",
    "print('Eigenvalues in descending order:')\n",
    "for i in eig_pairs:\n",
    "    print(i)"
   ]
  },
  {
   "cell_type": "code",
   "execution_count": 25,
   "metadata": {},
   "outputs": [
    {
     "data": {
      "text/plain": [
       "3.98"
      ]
     },
     "execution_count": 25,
     "metadata": {},
     "output_type": "execute_result"
    }
   ],
   "source": [
    "2.9+0.92+0.14+0.02"
   ]
  },
  {
   "cell_type": "code",
   "execution_count": 26,
   "metadata": {},
   "outputs": [
    {
     "data": {
      "text/plain": [
       "72.8643216080402"
      ]
     },
     "execution_count": 26,
     "metadata": {},
     "output_type": "execute_result"
    }
   ],
   "source": [
    "(2.9/3.98)*100"
   ]
  },
  {
   "cell_type": "code",
   "execution_count": 27,
   "metadata": {},
   "outputs": [
    {
     "data": {
      "text/plain": [
       "23.301507537688444"
      ]
     },
     "execution_count": 27,
     "metadata": {},
     "output_type": "execute_result"
    }
   ],
   "source": [
    "(0.92740/3.98)*100"
   ]
  },
  {
   "cell_type": "markdown",
   "metadata": {},
   "source": [
    "### How many Principal Component to select"
   ]
  },
  {
   "cell_type": "markdown",
   "metadata": {},
   "source": [
    "- After sorting the eigenpairs, the next question is \"how many principal components are we going to choose for our new feature subspace?\" A useful measure is the so-called \"explained variance,\" which can be calculated from the eigenvalues. The explained variance tells us how much information (variance) can be attributed to each of the principal components."
   ]
  },
  {
   "cell_type": "code",
   "execution_count": 16,
   "metadata": {},
   "outputs": [],
   "source": [
    "tot = sum(eig_vals)\n",
    "var_exp = [(i / tot)*100 for i in sorted(eig_vals, reverse=True)]\n",
    "cum_var_exp = np.cumsum(var_exp)\n"
   ]
  },
  {
   "cell_type": "code",
   "execution_count": 18,
   "metadata": {},
   "outputs": [
    {
     "data": {
      "text/plain": [
       "[72.96244541329987, 22.850761786701764, 3.668921889282876, 0.5178709107154823]"
      ]
     },
     "execution_count": 18,
     "metadata": {},
     "output_type": "execute_result"
    }
   ],
   "source": [
    "var_exp"
   ]
  },
  {
   "cell_type": "code",
   "execution_count": 19,
   "metadata": {},
   "outputs": [
    {
     "data": {
      "text/plain": [
       "array([ 72.96244541,  95.8132072 ,  99.48212909, 100.        ])"
      ]
     },
     "execution_count": 19,
     "metadata": {},
     "output_type": "execute_result"
    }
   ],
   "source": [
    "cum_var_exp"
   ]
  },
  {
   "cell_type": "code",
   "execution_count": 31,
   "metadata": {},
   "outputs": [
    {
     "data": {
      "text/plain": [
       "<matplotlib.legend.Legend at 0x270a93a1948>"
      ]
     },
     "execution_count": 31,
     "metadata": {},
     "output_type": "execute_result"
    },
    {
     "data": {
      "image/png": "[encoded data removed]",
      "text/plain": [
       "<Figure size 504x288 with 1 Axes>"
      ]
     },
     "metadata": {
      "needs_background": "light"
     },
     "output_type": "display_data"
    }
   ],
   "source": [
    "import seaborn as sns\n",
    "fig_dims = (7, 4)\n",
    "x=[\"PC1\",\"PC2\"]\n",
    "y=[72,23,3,0.5]\n",
    "y=[72,95,99,]\n",
    "fig, ax = plt.subplots(figsize=fig_dims)\n",
    "sns.barplot(x=['PC %s' %i for i in range(1,5)], y=var_exp,\n",
    "            label=\"Individual\", color=\"b\")\n",
    "sns.scatterplot(x=['PC %s' %i for i in range(1,5)], y=cum_var_exp,\n",
    "            label=\"Cumulative\",s=100, color=\"r\")\n",
    "sns.lineplot(x=['PC %s' %i for i in range(1,5)], y=cum_var_exp,color=\"g\")\n",
    "plt.xlabel(\"Principal Components\")\n",
    "plt.ylabel(\"Explained Variance\")\n",
    "plt.legend(loc=3, bbox_to_anchor=(1.0,0.85))"
   ]
  },
  {
   "cell_type": "markdown",
   "metadata": {},
   "source": [
    "# Projection Onto the New Feature Space"
   ]
  },
  {
   "cell_type": "markdown",
   "metadata": {},
   "source": [
    "- In this last step we will use the 4×2-dimensional projection matrix W to transform our samples onto the new subspace via the equation<br>\n",
    "<br>\n",
    "- <font color=red>Y=X×W, where Y is a 150×2 matrix of our transformed samples.</font>"
   ]
  },
  {
   "cell_type": "code",
   "execution_count": 25,
   "metadata": {},
   "outputs": [
    {
     "data": {
      "text/plain": [
       "array([[ 0.52106591],\n",
       "       [-0.26934744],\n",
       "       [ 0.5804131 ],\n",
       "       [ 0.56485654]])"
      ]
     },
     "execution_count": 25,
     "metadata": {},
     "output_type": "execute_result"
    }
   ],
   "source": [
    "#eig_pairs[1][1]\n",
    "eig_pairs[0][1].reshape(4,1)"
   ]
  },
  {
   "cell_type": "code",
   "execution_count": 26,
   "metadata": {},
   "outputs": [
    {
     "data": {
      "text/plain": [
       "array([[-0.37741762],\n",
       "       [-0.92329566],\n",
       "       [-0.02449161],\n",
       "       [-0.06694199]])"
      ]
     },
     "execution_count": 26,
     "metadata": {},
     "output_type": "execute_result"
    }
   ],
   "source": [
    " eig_pairs[1][1].reshape(4,1)"
   ]
  },
  {
   "cell_type": "code",
   "execution_count": 27,
   "metadata": {
    "scrolled": true
   },
   "outputs": [
    {
     "name": "stdout",
     "output_type": "stream",
     "text": [
      "Matrix W:\n",
      " [[ 0.52106591 -0.37741762]\n",
      " [-0.26934744 -0.92329566]\n",
      " [ 0.5804131  -0.02449161]\n",
      " [ 0.56485654 -0.06694199]]\n"
     ]
    }
   ],
   "source": [
    "matrix_w = np.hstack((eig_pairs[0][1].reshape(4,1), \n",
    "                      eig_pairs[1][1].reshape(4,1)))\n",
    "\n",
    "print('Matrix W:\\n', matrix_w)"
   ]
  },
  {
   "cell_type": "code",
   "execution_count": null,
   "metadata": {},
   "outputs": [],
   "source": [
    "matrix W---->4 * 2"
   ]
  },
  {
   "cell_type": "code",
   "execution_count": 44,
   "metadata": {},
   "outputs": [
    {
     "data": {
      "text/plain": [
       "(150, 4)"
      ]
     },
     "execution_count": 44,
     "metadata": {},
     "output_type": "execute_result"
    }
   ],
   "source": [
    "X_std.shape"
   ]
  },
  {
   "cell_type": "code",
   "execution_count": null,
   "metadata": {},
   "outputs": [],
   "source": [
    "150 * 4    multiply with 4 * 2------>150 * 2"
   ]
  },
  {
   "cell_type": "code",
   "execution_count": 45,
   "metadata": {},
   "outputs": [
    {
     "data": {
      "text/plain": [
       "(4, 2)"
      ]
     },
     "execution_count": 45,
     "metadata": {},
     "output_type": "execute_result"
    }
   ],
   "source": [
    "matrix_w.shape"
   ]
  },
  {
   "cell_type": "code",
   "execution_count": 28,
   "metadata": {},
   "outputs": [],
   "source": [
    "Y = X_std.dot(matrix_w)"
   ]
  },
  {
   "cell_type": "code",
   "execution_count": 29,
   "metadata": {},
   "outputs": [
    {
     "data": {
      "text/plain": [
       "(150, 2)"
      ]
     },
     "execution_count": 29,
     "metadata": {},
     "output_type": "execute_result"
    }
   ],
   "source": [
    "Y.shape"
   ]
  },
  {
   "cell_type": "code",
   "execution_count": 31,
   "metadata": {},
   "outputs": [],
   "source": [
    "\n",
    "dfx_trans = pd.DataFrame(data=Y)\n"
   ]
  },
  {
   "cell_type": "code",
   "execution_count": 32,
   "metadata": {},
   "outputs": [
    {
     "data": {
      "text/html": [
       "<div>\n",
       "<style scoped>\n",
       "    .dataframe tbody tr th:only-of-type {\n",
       "        vertical-align: middle;\n",
       "    }\n",
       "\n",
       "    .dataframe tbody tr th {\n",
       "        vertical-align: top;\n",
       "    }\n",
       "\n",
       "    .dataframe thead th {\n",
       "        text-align: right;\n",
       "    }\n",
       "</style>\n",
       "<table border=\"1\" class=\"dataframe\">\n",
       "  <thead>\n",
       "    <tr style=\"text-align: right;\">\n",
       "      <th></th>\n",
       "      <th>0</th>\n",
       "      <th>1</th>\n",
       "    </tr>\n",
       "  </thead>\n",
       "  <tbody>\n",
       "    <tr>\n",
       "      <th>0</th>\n",
       "      <td>-2.264703</td>\n",
       "      <td>-0.480027</td>\n",
       "    </tr>\n",
       "    <tr>\n",
       "      <th>1</th>\n",
       "      <td>-2.080961</td>\n",
       "      <td>0.674134</td>\n",
       "    </tr>\n",
       "    <tr>\n",
       "      <th>2</th>\n",
       "      <td>-2.364229</td>\n",
       "      <td>0.341908</td>\n",
       "    </tr>\n",
       "    <tr>\n",
       "      <th>3</th>\n",
       "      <td>-2.299384</td>\n",
       "      <td>0.597395</td>\n",
       "    </tr>\n",
       "    <tr>\n",
       "      <th>4</th>\n",
       "      <td>-2.389842</td>\n",
       "      <td>-0.646835</td>\n",
       "    </tr>\n",
       "    <tr>\n",
       "      <th>...</th>\n",
       "      <td>...</td>\n",
       "      <td>...</td>\n",
       "    </tr>\n",
       "    <tr>\n",
       "      <th>145</th>\n",
       "      <td>1.870503</td>\n",
       "      <td>-0.386966</td>\n",
       "    </tr>\n",
       "    <tr>\n",
       "      <th>146</th>\n",
       "      <td>1.564580</td>\n",
       "      <td>0.896687</td>\n",
       "    </tr>\n",
       "    <tr>\n",
       "      <th>147</th>\n",
       "      <td>1.521170</td>\n",
       "      <td>-0.269069</td>\n",
       "    </tr>\n",
       "    <tr>\n",
       "      <th>148</th>\n",
       "      <td>1.372788</td>\n",
       "      <td>-1.011254</td>\n",
       "    </tr>\n",
       "    <tr>\n",
       "      <th>149</th>\n",
       "      <td>0.960656</td>\n",
       "      <td>0.024332</td>\n",
       "    </tr>\n",
       "  </tbody>\n",
       "</table>\n",
       "<p>150 rows × 2 columns</p>\n",
       "</div>"
      ],
      "text/plain": [
       "            0         1\n",
       "0   -2.264703 -0.480027\n",
       "1   -2.080961  0.674134\n",
       "2   -2.364229  0.341908\n",
       "3   -2.299384  0.597395\n",
       "4   -2.389842 -0.646835\n",
       "..        ...       ...\n",
       "145  1.870503 -0.386966\n",
       "146  1.564580  0.896687\n",
       "147  1.521170 -0.269069\n",
       "148  1.372788 -1.011254\n",
       "149  0.960656  0.024332\n",
       "\n",
       "[150 rows x 2 columns]"
      ]
     },
     "execution_count": 32,
     "metadata": {},
     "output_type": "execute_result"
    }
   ],
   "source": [
    "dfx_trans"
   ]
  },
  {
   "cell_type": "code",
   "execution_count": 46,
   "metadata": {},
   "outputs": [
    {
     "data": {
      "text/html": [
       "<div>\n",
       "<style scoped>\n",
       "    .dataframe tbody tr th:only-of-type {\n",
       "        vertical-align: middle;\n",
       "    }\n",
       "\n",
       "    .dataframe tbody tr th {\n",
       "        vertical-align: top;\n",
       "    }\n",
       "\n",
       "    .dataframe thead th {\n",
       "        text-align: right;\n",
       "    }\n",
       "</style>\n",
       "<table border=\"1\" class=\"dataframe\">\n",
       "  <thead>\n",
       "    <tr style=\"text-align: right;\">\n",
       "      <th></th>\n",
       "      <th>sepal_length</th>\n",
       "      <th>sepal_width</th>\n",
       "      <th>petal_length</th>\n",
       "      <th>petal_width</th>\n",
       "      <th>species</th>\n",
       "    </tr>\n",
       "  </thead>\n",
       "  <tbody>\n",
       "    <tr>\n",
       "      <th>0</th>\n",
       "      <td>5.1</td>\n",
       "      <td>3.5</td>\n",
       "      <td>1.4</td>\n",
       "      <td>0.2</td>\n",
       "      <td>setosa</td>\n",
       "    </tr>\n",
       "  </tbody>\n",
       "</table>\n",
       "</div>"
      ],
      "text/plain": [
       "   sepal_length  sepal_width  petal_length  petal_width species\n",
       "0           5.1          3.5           1.4          0.2  setosa"
      ]
     },
     "execution_count": 46,
     "metadata": {},
     "output_type": "execute_result"
    }
   ],
   "source": [
    "df.head(1)"
   ]
  },
  {
   "cell_type": "code",
   "execution_count": 33,
   "metadata": {},
   "outputs": [
    {
     "data": {
      "image/png": "[encoded data removed]",
      "text/plain": [
       "<Figure size 504x432 with 1 Axes>"
      ]
     },
     "metadata": {
      "needs_background": "light"
     },
     "output_type": "display_data"
    }
   ],
   "source": [
    "plt.figure(figsize=(7,6))\n",
    "plt.scatter(dfx_trans[0],dfx_trans[1],alpha=0.75,s=150)\n",
    "plt.grid(True)\n",
    "plt.title(\"Class separation using first two principal components\\n\",fontsize=20)\n",
    "plt.xlabel(\"Principal component-1\",fontsize=15)\n",
    "plt.ylabel(\"Principal component-2\",fontsize=15)\n",
    "plt.show()\n"
   ]
  },
  {
   "cell_type": "markdown",
   "metadata": {},
   "source": [
    "# PCA in scikit-learn"
   ]
  },
  {
   "cell_type": "code",
   "execution_count": 39,
   "metadata": {},
   "outputs": [],
   "source": [
    "from sklearn.decomposition import PCA as sklearnPCA\n",
    "sklearn_pca = sklearnPCA(n_components=2)\n",
    "Y_sklearn = sklearn_pca.fit_transform(X_std)"
   ]
  },
  {
   "cell_type": "code",
   "execution_count": 38,
   "metadata": {},
   "outputs": [
    {
     "data": {
      "text/plain": [
       "array([0.72962445, 0.22850762, 0.03668922, 0.00517871])"
      ]
     },
     "execution_count": 38,
     "metadata": {},
     "output_type": "execute_result"
    }
   ],
   "source": [
    "sklearn_pca.explained_variance_ratio_"
   ]
  },
  {
   "cell_type": "code",
   "execution_count": 35,
   "metadata": {},
   "outputs": [
    {
     "data": {
      "text/plain": [
       "(150, 4)"
      ]
     },
     "execution_count": 35,
     "metadata": {},
     "output_type": "execute_result"
    }
   ],
   "source": [
    "Y_sklearn.shape"
   ]
  },
  {
   "cell_type": "code",
   "execution_count": 36,
   "metadata": {},
   "outputs": [
    {
     "data": {
      "text/plain": [
       "array([[-2.26470281e+00,  4.80026597e-01, -1.27706022e-01,\n",
       "        -2.41682039e-02],\n",
       "       [-2.08096115e+00, -6.74133557e-01, -2.34608854e-01,\n",
       "        -1.03006775e-01],\n",
       "       [-2.36422905e+00, -3.41908024e-01,  4.42014848e-02,\n",
       "        -2.83770534e-02],\n",
       "       [-2.29938422e+00, -5.97394508e-01,  9.12901063e-02,\n",
       "         6.59555596e-02],\n",
       "       [-2.38984217e+00,  6.46835383e-01,  1.57381957e-02,\n",
       "         3.59228133e-02],\n",
       "       [-2.07563095e+00,  1.48917752e+00,  2.69682944e-02,\n",
       "        -6.60818022e-03],\n",
       "       [-2.44402884e+00,  4.76441976e-02,  3.35470401e-01,\n",
       "         3.67755572e-02],\n",
       "       [-2.23284716e+00,  2.23148073e-01, -8.86954979e-02,\n",
       "         2.46120962e-02],\n",
       "       [-2.33464048e+00, -1.11532768e+00,  1.45076864e-01,\n",
       "         2.68592208e-02],\n",
       "       [-2.18432817e+00, -4.69013561e-01, -2.53765567e-01,\n",
       "         3.98992877e-02],\n",
       "       [-2.16631010e+00,  1.04369065e+00, -2.68681102e-01,\n",
       "        -1.67313672e-02],\n",
       "       [-2.32613087e+00,  1.33078335e-01,  9.37592444e-02,\n",
       "         1.33483413e-01],\n",
       "       [-2.21845090e+00, -7.28676165e-01, -2.30911237e-01,\n",
       "        -2.42503814e-03],\n",
       "       [-2.63310070e+00, -9.61506729e-01,  1.80796084e-01,\n",
       "         1.92155336e-02],\n",
       "       [-2.19874060e+00,  1.86005711e+00, -4.72900998e-01,\n",
       "        -1.94731769e-01],\n",
       "       [-2.26221453e+00,  2.68628449e+00,  3.05266093e-02,\n",
       "        -5.05337373e-02],\n",
       "       [-2.20758770e+00,  1.48360936e+00, -5.34409408e-03,\n",
       "        -1.88817432e-01],\n",
       "       [-2.19034951e+00,  4.88838316e-01, -4.42153165e-02,\n",
       "        -9.30904384e-02],\n",
       "       [-1.89857200e+00,  1.40501879e+00, -3.74343275e-01,\n",
       "        -6.10959671e-02],\n",
       "       [-2.34336905e+00,  1.12784938e+00,  1.32630467e-01,\n",
       "         3.77564197e-02],\n",
       "       [-1.91432300e+00,  4.08855708e-01, -4.21292594e-01,\n",
       "        -1.09212863e-02],\n",
       "       [-2.20701284e+00,  9.24121427e-01,  1.59865277e-01,\n",
       "        -5.95973299e-02],\n",
       "       [-2.77434470e+00,  4.58343668e-01,  3.32179098e-01,\n",
       "        -1.96484301e-02],\n",
       "       [-1.81866953e+00,  8.55585263e-02,  3.44885958e-02,\n",
       "        -1.51140999e-01],\n",
       "       [-2.22716331e+00,  1.37254455e-01,  1.17993536e-01,\n",
       "         2.70140352e-01],\n",
       "       [-1.95184633e+00, -6.25618588e-01, -3.05640982e-01,\n",
       "        -4.35616510e-02],\n",
       "       [-2.05115137e+00,  2.42163553e-01,  8.63640108e-02,\n",
       "        -6.76800599e-02],\n",
       "       [-2.16857717e+00,  5.27149525e-01, -2.06816248e-01,\n",
       "        -1.02753930e-02],\n",
       "       [-2.13956345e+00,  3.13217810e-01, -2.71150240e-01,\n",
       "        -8.42592210e-02],\n",
       "       [-2.26526149e+00, -3.37731904e-01,  6.84357762e-02,\n",
       "         1.08279885e-01],\n",
       "       [-2.14012214e+00, -5.04540690e-01, -7.50084417e-02,\n",
       "         4.81888683e-02],\n",
       "       [-1.83159477e+00,  4.23695068e-01, -2.70467377e-01,\n",
       "        -2.39870381e-01],\n",
       "       [-2.61494794e+00,  1.79357586e+00,  4.72284187e-02,\n",
       "         2.29235932e-01],\n",
       "       [-2.44617739e+00,  2.15072788e+00, -8.26680451e-02,\n",
       "         4.82143929e-02],\n",
       "       [-2.10997488e+00, -4.60201841e-01, -1.70274861e-01,\n",
       "        -2.90229468e-02],\n",
       "       [-2.20780890e+00, -2.06107398e-01, -2.25441580e-01,\n",
       "        -1.68907873e-01],\n",
       "       [-2.04514621e+00,  6.61558111e-01, -4.84537410e-01,\n",
       "        -1.96358525e-01],\n",
       "       [-2.52733191e+00,  5.92292774e-01,  1.94358125e-02,\n",
       "         1.36504550e-01],\n",
       "       [-2.42963258e+00, -9.04180040e-01,  1.93254662e-01,\n",
       "         9.73842285e-03],\n",
       "       [-2.16971071e+00,  2.68878961e-01, -1.75883821e-01,\n",
       "        -7.04740592e-03],\n",
       "       [-2.28647514e+00,  4.41715388e-01,  3.48949090e-02,\n",
       "        -1.06983249e-01],\n",
       "       [-1.85812246e+00, -2.33741516e+00, -2.04234223e-01,\n",
       "        -2.89863919e-01],\n",
       "       [-2.55363840e+00, -4.79100690e-01,  3.05766453e-01,\n",
       "         6.66014529e-02],\n",
       "       [-1.96444768e+00,  4.72326668e-01,  3.09601318e-01,\n",
       "        -1.77093014e-01],\n",
       "       [-2.13705901e+00,  1.14222926e+00,  2.48433561e-01,\n",
       "         1.51043437e-01],\n",
       "       [-2.06974430e+00, -7.11052725e-01, -6.39298256e-02,\n",
       "        -1.40269507e-01],\n",
       "       [-2.38473317e+00,  1.12042970e+00,  5.72178581e-02,\n",
       "         1.52230967e-01],\n",
       "       [-2.39437631e+00, -3.86246873e-01,  1.39467905e-01,\n",
       "         4.88347616e-02],\n",
       "       [-2.22944655e+00,  9.97959764e-01, -1.81492780e-01,\n",
       "         1.49281349e-02],\n",
       "       [-2.20383344e+00,  9.21635752e-03, -1.53029490e-01,\n",
       "        -4.93717318e-02],\n",
       "       [ 1.10178118e+00,  8.62972418e-01, -6.84586163e-01,\n",
       "        -3.48337755e-02],\n",
       "       [ 7.31337425e-01,  5.94614726e-01, -9.41217155e-02,\n",
       "        -4.90362325e-03],\n",
       "       [ 1.24097932e+00,  6.16297654e-01, -5.54006835e-01,\n",
       "        -9.42339702e-03],\n",
       "       [ 4.07483059e-01, -1.75440399e+00, -2.31017678e-02,\n",
       "        -6.57688353e-02],\n",
       "       [ 1.07547470e+00, -2.08421046e-01, -3.98255523e-01,\n",
       "        -1.04736873e-01],\n",
       "       [ 3.88687337e-01, -5.93283636e-01,  1.24191550e-01,\n",
       "         2.40831300e-01],\n",
       "       [ 7.46529741e-01,  7.73019312e-01,  1.48969403e-01,\n",
       "         7.73697853e-02],\n",
       "       [-4.87322742e-01, -1.85242909e+00,  2.49265266e-01,\n",
       "         4.05202053e-02],\n",
       "       [ 9.27901638e-01,  3.22260779e-02, -5.96169361e-01,\n",
       "         2.98796094e-02],\n",
       "       [ 1.14261887e-02, -1.03401828e+00,  5.38899390e-01,\n",
       "         2.84611837e-02],\n",
       "       [-1.10196280e-01, -2.65407282e+00, -4.67904441e-02,\n",
       "        -1.37607310e-02],\n",
       "       [ 4.40693449e-01, -6.32951884e-02,  2.05073815e-01,\n",
       "        -4.01260816e-02],\n",
       "       [ 5.62108306e-01, -1.76472438e+00, -7.65771394e-01,\n",
       "        -4.57311573e-02],\n",
       "       [ 7.19561889e-01, -1.86224606e-01, -6.86589454e-02,\n",
       "         1.64807198e-01],\n",
       "       [-3.33547032e-02, -4.39003210e-01,  1.94932893e-01,\n",
       "        -1.09048499e-01],\n",
       "       [ 8.75407191e-01,  5.09063957e-01, -5.03511382e-01,\n",
       "        -1.04943723e-01],\n",
       "       [ 3.50251668e-01, -1.96311735e-01,  4.90873075e-01,\n",
       "         1.91509364e-01],\n",
       "       [ 1.58810048e-01, -7.92095742e-01, -3.02037174e-01,\n",
       "         2.05297735e-01],\n",
       "       [ 1.22509363e+00, -1.62224380e+00, -4.82304024e-01,\n",
       "        -2.25899769e-01],\n",
       "       [ 1.64917899e-01, -1.30260923e+00, -1.72837808e-01,\n",
       "         5.17268487e-02],\n",
       "       [ 7.37682649e-01,  3.96571562e-01,  6.16526306e-01,\n",
       "         8.32841227e-02],\n",
       "       [ 4.76287191e-01, -4.17320281e-01, -2.64952227e-01,\n",
       "        -1.13568273e-01],\n",
       "       [ 1.23417810e+00, -9.33325729e-01, -3.68412272e-01,\n",
       "         9.94452551e-03],\n",
       "       [ 6.32858200e-01, -4.16387721e-01, -2.91896252e-01,\n",
       "         2.74220152e-01],\n",
       "       [ 7.02661183e-01, -6.34118197e-02, -4.46027008e-01,\n",
       "        -4.34583252e-02],\n",
       "       [ 8.74273654e-01,  2.50793393e-01, -4.72578954e-01,\n",
       "        -1.01715736e-01],\n",
       "       [ 1.25650912e+00, -7.72560197e-02, -7.27155002e-01,\n",
       "        -3.96885184e-02],\n",
       "       [ 1.35840512e+00,  3.31311682e-01, -2.60826577e-01,\n",
       "        -6.68280639e-02],\n",
       "       [ 6.64800367e-01, -2.25927855e-01,  8.58638887e-02,\n",
       "         3.64398401e-02],\n",
       "       [-4.02586109e-02, -1.05871855e+00, -3.19573330e-01,\n",
       "        -6.47881557e-02],\n",
       "       [ 1.30795175e-01, -1.56227183e+00, -1.49983478e-01,\n",
       "         9.40252286e-03],\n",
       "       [ 2.34526890e-02, -1.57247559e+00, -2.41552281e-01,\n",
       "         3.27724444e-02],\n",
       "       [ 2.41538273e-01, -7.77256383e-01, -1.51211957e-01,\n",
       "        -2.36513599e-02],\n",
       "       [ 1.06109461e+00, -6.33843245e-01,  1.05311387e-01,\n",
       "         1.83968453e-01],\n",
       "       [ 2.23978774e-01, -2.87773512e-01,  6.65249720e-01,\n",
       "         2.54828368e-01],\n",
       "       [ 4.29139116e-01,  8.45582241e-01,  4.50634071e-01,\n",
       "         1.09675181e-01],\n",
       "       [ 1.04872805e+00,  5.22051797e-01, -3.95786384e-01,\n",
       "        -3.72090187e-02],\n",
       "       [ 1.04453138e+00, -1.38298872e+00, -6.88295960e-01,\n",
       "        -1.36835600e-01],\n",
       "       [ 6.95883211e-02, -2.19503335e-01,  2.91579274e-01,\n",
       "         1.47144581e-01],\n",
       "       [ 2.83477238e-01, -1.32932464e+00,  8.94100229e-02,\n",
       "        -8.90580520e-03],\n",
       "       [ 2.79077776e-01, -1.12002852e+00,  9.44876010e-02,\n",
       "         2.70657196e-01],\n",
       "       [ 6.24569791e-01,  2.49230293e-02, -2.04811472e-02,\n",
       "         1.47686401e-01],\n",
       "       [ 3.36530370e-01, -9.88404018e-01, -1.99389755e-01,\n",
       "        -6.53056201e-03],\n",
       "       [-3.62183385e-01, -2.01923787e+00,  1.05821048e-01,\n",
       "        -1.95708119e-02],\n",
       "       [ 2.88586239e-01, -8.55730320e-01,  1.30889685e-01,\n",
       "         1.07402349e-01],\n",
       "       [ 9.13606557e-02, -1.81192126e-01,  1.28978343e-01,\n",
       "         2.29959626e-01],\n",
       "       [ 2.27716866e-01, -3.84920081e-01,  1.56213154e-01,\n",
       "         1.32605877e-01],\n",
       "       [ 5.76388289e-01, -1.54873597e-01, -2.71650362e-01,\n",
       "         1.98606790e-02],\n",
       "       [-4.47667019e-01, -1.54379203e+00,  1.90400930e-01,\n",
       "        -1.99946457e-01],\n",
       "       [ 2.56730589e-01, -5.98851796e-01,  9.18791610e-02,\n",
       "         5.86220486e-02],\n",
       "       [ 1.84456887e+00,  8.70421312e-01,  1.00540102e+00,\n",
       "         4.92497432e-02],\n",
       "       [ 1.15788161e+00, -6.98869862e-01,  5.30160149e-01,\n",
       "         4.05207540e-02],\n",
       "       [ 2.20526679e+00,  5.62010477e-01, -2.02914170e-01,\n",
       "        -5.91841937e-02],\n",
       "       [ 1.44015066e+00, -4.69875881e-02,  1.63630107e-01,\n",
       "         2.35770073e-01],\n",
       "       [ 1.86781222e+00,  2.95044824e-01,  3.95628375e-01,\n",
       "         1.62982715e-02],\n",
       "       [ 2.75187334e+00,  8.00409201e-01, -5.82309103e-01,\n",
       "         1.01384486e-01],\n",
       "       [ 3.67017688e-01, -1.56150289e+00,  9.86893267e-01,\n",
       "         1.33123834e-01],\n",
       "       [ 2.30243944e+00,  4.20065580e-01, -6.51706439e-01,\n",
       "         2.38041242e-01],\n",
       "       [ 2.00668647e+00, -7.11438654e-01, -3.93990571e-01,\n",
       "         8.65106302e-02],\n",
       "       [ 2.25977735e+00,  1.92101038e+00,  3.97551897e-01,\n",
       "        -1.04838918e-01],\n",
       "       [ 1.36417549e+00,  6.92756454e-01,  2.84612074e-01,\n",
       "        -1.07860420e-01],\n",
       "       [ 1.60267867e+00, -4.21700450e-01,  2.31864079e-02,\n",
       "        -5.83316327e-02],\n",
       "       [ 1.88390070e+00,  4.19249651e-01,  2.63384095e-02,\n",
       "        -1.46414939e-01],\n",
       "       [ 1.26011510e+00, -1.16226042e+00,  5.80249290e-01,\n",
       "        -9.91573214e-02],\n",
       "       [ 1.46764520e+00, -4.42271587e-01,  1.00386957e+00,\n",
       "        -2.75658903e-01],\n",
       "       [ 1.59007732e+00,  6.76244806e-01,  6.38428708e-01,\n",
       "        -1.91862996e-01],\n",
       "       [ 1.47143146e+00,  2.55621824e-01,  3.74312599e-02,\n",
       "         1.55330271e-01],\n",
       "       [ 2.42632899e+00,  2.55666125e+00, -1.27881459e-01,\n",
       "         2.73807183e-01],\n",
       "       [ 3.31069558e+00,  1.77809493e-02, -7.03305304e-01,\n",
       "        -4.51886059e-02],\n",
       "       [ 1.26376667e+00, -1.70674538e+00, -2.67536893e-01,\n",
       "         6.51807997e-02],\n",
       "       [ 2.03771630e+00,  9.10467410e-01,  2.34799484e-01,\n",
       "        -1.67951254e-01],\n",
       "       [ 9.77980734e-01, -5.71764325e-01,  8.28127201e-01,\n",
       "        -2.77555871e-02],\n",
       "       [ 2.89765149e+00,  4.13641060e-01, -8.57421825e-01,\n",
       "         1.27336502e-01],\n",
       "       [ 1.33323218e+00, -4.81811219e-01, -5.42836383e-03,\n",
       "        -1.39959148e-01],\n",
       "       [ 1.70073390e+00,  1.01392187e+00,  2.98450613e-01,\n",
       "         6.16437339e-02],\n",
       "       [ 1.95432671e+00,  1.00777760e+00, -4.19984722e-01,\n",
       "         2.18338351e-01],\n",
       "       [ 1.17510363e+00, -3.16394472e-01,  1.29937757e-01,\n",
       "        -1.25420444e-01],\n",
       "       [ 1.02095055e+00,  6.43460292e-02,  3.37715967e-01,\n",
       "         8.65440136e-03],\n",
       "       [ 1.78834992e+00, -1.87361215e-01,  2.70658006e-01,\n",
       "        -3.10876478e-02],\n",
       "       [ 1.86364755e+00,  5.62290726e-01, -7.15634119e-01,\n",
       "         2.08215164e-01],\n",
       "       [ 2.43595373e+00,  2.59284433e-01, -7.27816146e-01,\n",
       "         1.79233648e-02],\n",
       "       [ 2.30492772e+00,  2.62632347e+00, -4.93473808e-01,\n",
       "         2.11675709e-01],\n",
       "       [ 1.86270322e+00, -1.78549495e-01,  3.54148712e-01,\n",
       "        -1.00009882e-01],\n",
       "       [ 1.11414774e+00, -2.92922623e-01, -1.83488392e-01,\n",
       "         1.86343697e-01],\n",
       "       [ 1.20247330e+00, -8.11315271e-01, -1.64723757e-01,\n",
       "         4.89483470e-01],\n",
       "       [ 2.79877045e+00,  8.56803329e-01, -5.42906499e-01,\n",
       "        -2.95881050e-01],\n",
       "       [ 1.57625591e+00,  1.06858111e+00,  9.45853819e-01,\n",
       "        -3.56057591e-02],\n",
       "       [ 1.34629210e+00,  4.22430611e-01,  1.80875478e-01,\n",
       "         2.15421288e-01],\n",
       "       [ 9.24824917e-01,  1.72231005e-02,  4.16826193e-01,\n",
       "        -5.23840949e-03],\n",
       "       [ 1.85204505e+00,  6.76128174e-01, -1.26721148e-02,\n",
       "        -1.95195239e-01],\n",
       "       [ 2.01481043e+00,  6.13885637e-01,  4.28332842e-01,\n",
       "        -2.47538313e-01],\n",
       "       [ 1.90178409e+00,  6.89575494e-01,  1.30075005e-01,\n",
       "        -4.69696647e-01],\n",
       "       [ 1.15788161e+00, -6.98869862e-01,  5.30160149e-01,\n",
       "         4.05207540e-02],\n",
       "       [ 2.04055823e+00,  8.67520601e-01,  3.38144000e-01,\n",
       "        -4.51871263e-02],\n",
       "       [ 1.99814710e+00,  1.04916875e+00,  6.32413436e-01,\n",
       "        -2.14045204e-01],\n",
       "       [ 1.87050329e+00,  3.86966082e-01,  2.56273852e-01,\n",
       "        -3.89256845e-01],\n",
       "       [ 1.56458048e+00, -8.96686809e-01, -2.63713516e-02,\n",
       "        -2.20192100e-01],\n",
       "       [ 1.52117050e+00,  2.69069144e-01,  1.80178380e-01,\n",
       "        -1.19171137e-01],\n",
       "       [ 1.37278779e+00,  1.01125442e+00,  9.33395241e-01,\n",
       "        -2.61286484e-02],\n",
       "       [ 9.60656030e-01, -2.43316682e-02,  5.28248807e-01,\n",
       "         1.63078032e-01]])"
      ]
     },
     "execution_count": 36,
     "metadata": {},
     "output_type": "execute_result"
    }
   ],
   "source": [
    "Y_sklearn"
   ]
  },
  {
   "cell_type": "code",
   "execution_count": 74,
   "metadata": {},
   "outputs": [],
   "source": [
    "dfx_trans = pd.DataFrame(data=Y_sklearn)"
   ]
  },
  {
   "cell_type": "code",
   "execution_count": 75,
   "metadata": {},
   "outputs": [
    {
     "data": {
      "image/png": "[encoded data removed]",
      "text/plain": [
       "<Figure size 720x432 with 1 Axes>"
      ]
     },
     "metadata": {
      "needs_background": "light"
     },
     "output_type": "display_data"
    }
   ],
   "source": [
    "plt.figure(figsize=(10,6))\n",
    "plt.scatter(dfx_trans[0],dfx_trans[1],c=df['target'],edgecolors='k',alpha=0.75,s=150)\n",
    "plt.grid(True)\n",
    "plt.title(\"Class separation using first two principal components\\n\",fontsize=20)\n",
    "plt.xlabel(\"Principal component-1\",fontsize=15)\n",
    "plt.ylabel(\"Principal component-2\",fontsize=15)\n",
    "plt.show()\n"
   ]
  },
  {
   "cell_type": "code",
   "execution_count": null,
   "metadata": {},
   "outputs": [],
   "source": []
  }
 ],
 "metadata": {
  "kernelspec": {
   "display_name": "Python 3",
   "language": "python",
   "name": "python3"
  },
  "language_info": {
   "codemirror_mode": {
    "name": "ipython",
    "version": 3
   },
   "file_extension": ".py",
   "mimetype": "text/x-python",
   "name": "python",
   "nbconvert_exporter": "python",
   "pygments_lexer": "ipython3",
   "version": "3.7.4"
  }
 },
 "nbformat": 4,
 "nbformat_minor": 4
}
